{
 "metadata": {
  "name": "tutorial"
 },
 "nbformat": 3,
 "nbformat_minor": 0,
 "worksheets": [
  {
   "cells": [
    {
     "cell_type": "markdown",
     "metadata": {},
     "source": [
      "## Debugging, Yay!\n",
      "\n",
      "### Goal\n",
      "* Exceptions: There be bugs (what, how, why)\n",
      "* Reading Traces: See through the code\n",
      "* Linting: Speedy debugging\n",
      "* Coding Standards: Bug prevention\n",
      "* Debuggers: See what's going on\n",
      "* Profiling: Identifying slow code\n",
      "\n",
      "### Exercise: In groups of 2 or 3...\n",
      "* Remove \"I'm good\" sticky note from laptops\n",
      "* Create a definition for debugging.\n",
      "* Have you seen 'debugging' in movies?\n",
      "* Write your definition of debugging in **Etherpad**\n",
      "* Put up \"I'm good\" sticky note on laptops\n",
      "* **I Finished** Early! Great! Go over other group's answers and see if you would hypothetically change yours after seeing other definitions. I will ask you."
     ]
    },
    {
     "cell_type": "markdown",
     "metadata": {},
     "source": [
      "### What are Exceptions?\n",
      "Of ~165 exceptions, some common ones\n",
      "\n",
      "    SyntaxError # You're probably missing a parenthesis or colon\n",
      "    NameError   # There's probably a variable name typo somewhere\n",
      "    TypeError   # You're doing something with incompatible variable types\n",
      "    ValueError  # You're calling a function with the wrong parameter\n",
      "    IOError     # You're trying to use a file that doesn't exist\n",
      "    IndexError  # You're trying to reference a list element that doesn't exist\n",
      "    KeyError    # Similar to an IndexError, but for dictionaries\n",
      "    Exception   # This means \"an error of any type\" - hopefully you don't see it often"
     ]
    },
    {
     "cell_type": "code",
     "collapsed": false,
     "input": [
      "#TypeError\n",
      "print 's'/3.0"
     ],
     "language": "python",
     "metadata": {},
     "outputs": []
    },
    {
     "cell_type": "code",
     "collapsed": false,
     "input": [
      "#ZeroDivisionError\n",
      "print 5.0/0.0"
     ],
     "language": "python",
     "metadata": {},
     "outputs": []
    },
    {
     "cell_type": "code",
     "collapsed": false,
     "input": [
      "#NameError\n",
      "print flux"
     ],
     "language": "python",
     "metadata": {},
     "outputs": []
    },
    {
     "cell_type": "code",
     "collapsed": false,
     "input": [
      "#Syntax Error\n",
      "print, 'a'"
     ],
     "language": "python",
     "metadata": {},
     "outputs": []
    },
    {
     "cell_type": "code",
     "collapsed": false,
     "input": [
      "#ValueError\n",
      "a,b = 's'"
     ],
     "language": "python",
     "metadata": {},
     "outputs": []
    },
    {
     "cell_type": "markdown",
     "metadata": {},
     "source": [
      "### Terminology & Example"
     ]
    },
    {
     "cell_type": "code",
     "collapsed": false,
     "input": [
      "a = 1.0 / 0.0"
     ],
     "language": "python",
     "metadata": {},
     "outputs": []
    },
    {
     "cell_type": "code",
     "collapsed": false,
     "input": [
      "try:\n",
      "    a = 1.0 / 0.0\n",
      "except ZeroDivisionError:\n",
      "    print \"Going from zero to hero.\"\n",
      "    a = 1.0"
     ],
     "language": "python",
     "metadata": {},
     "outputs": []
    },
    {
     "cell_type": "markdown",
     "metadata": {},
     "source": [
      "### Another Example\n",
      "* Not always obvious in broken code\n",
      "* Multi-exceptions\n",
      "* Follow if you like in the following cell, but not necessary"
     ]
    },
    {
     "cell_type": "code",
     "collapsed": false,
     "input": [
      "#If you expect an error try and except\n",
      "l = ['a1', 'b2', 'c0', 'd3', 'ee', 'f5']\n",
      "for pair in l:\n",
      "    x = 5.0/float(m)"
     ],
     "language": "python",
     "metadata": {},
     "outputs": []
    },
    {
     "cell_type": "markdown",
     "metadata": {},
     "source": [
      "### Exercise\n",
      "* Fix the following code, using what you know about exception types to help you find the error."
     ]
    },
    {
     "cell_type": "code",
     "collapsed": false,
     "input": [
      "l = ['a4', ['b', 2], ['c', 'c'], 'd4', '0f']\n",
      "for pair in l:\n",
      "    n, m = pair\n",
      "    try:\n",
      "        x = n*int(m)\n",
      "    except ValueError:\n",
      "        print 'skipped ', n, m"
     ],
     "language": "python",
     "metadata": {},
     "outputs": []
    },
    {
     "cell_type": "markdown",
     "metadata": {},
     "source": [
      "### Why use Exception Handling?\n",
      "* They hide errors\n",
      "* Can make debugging difficult"
     ]
    },
    {
     "cell_type": "markdown",
     "metadata": {},
     "source": [
      "### Tracebacks\n",
      "* Useful error reporting\n",
      "* Where the error (probably) was"
     ]
    },
    {
     "cell_type": "code",
     "collapsed": false,
     "input": [
      "def add_two(x):\n",
      "    return x+2.0\n",
      "\n",
      "def multiply_by_5(x):\n",
      "    return x*5.0\n",
      "\n",
      "def divide_by_4(x):\n",
      "    return x/4.0\n",
      "\n",
      "def run_equation(x):\n",
      "    return add_two(divide_by_4(multiply_by_5(x)))"
     ],
     "language": "python",
     "metadata": {},
     "outputs": []
    },
    {
     "cell_type": "code",
     "collapsed": false,
     "input": [
      "run_equation(3)"
     ],
     "language": "python",
     "metadata": {},
     "outputs": []
    },
    {
     "cell_type": "code",
     "collapsed": false,
     "input": [
      "run_equation(5.5)"
     ],
     "language": "python",
     "metadata": {},
     "outputs": []
    },
    {
     "cell_type": "code",
     "collapsed": false,
     "input": [
      "run_equation([1,2])"
     ],
     "language": "python",
     "metadata": {},
     "outputs": []
    },
    {
     "cell_type": "code",
     "collapsed": false,
     "input": [
      "### Linting: Speedy Debugging!\n",
      "* Better than fix-run cycle one at a time\n",
      "* Looks at code, doesn't run\n",
      "* All errors at once"
     ],
     "language": "python",
     "metadata": {},
     "outputs": []
    },
    {
     "cell_type": "code",
     "collapsed": false,
     "input": [
      "%run examples/linting_example.py"
     ],
     "language": "python",
     "metadata": {},
     "outputs": []
    },
    {
     "cell_type": "code",
     "collapsed": false,
     "input": [
      "!pyflakes examples/linting_example.py"
     ],
     "language": "python",
     "metadata": {},
     "outputs": []
    },
    {
     "cell_type": "markdown",
     "metadata": {},
     "source": [
      "### Coding Standards: Bug Prevention\n",
      "* PEP8 official guidelines\n",
      "* [Guidelines Document](http://www.python.org/dev/peps/pep-0008/)"
     ]
    },
    {
     "cell_type": "markdown",
     "metadata": {},
     "source": [
      "### Debuggers: See what's going on\n",
      "* Inspection\n",
      "* Interactively\n",
      "\n",
      "Commands\n",
      "\n",
      "* continue # go until next error\n",
      "* print    # print a variable\n",
      "* list     # shows source code around set_trace() call\n",
      "* args     # prints values of all arguments in the current function"
     ]
    },
    {
     "cell_type": "markdown",
     "metadata": {},
     "source": [
      "### Command-line Only"
     ]
    },
    {
     "cell_type": "code",
     "collapsed": false,
     "input": [
      "#import pdb\n",
      "\n",
      "def pdb_exercise(x, y, z):\n",
      "    a = [x, y, z]\n",
      "    #pdb.set_trace()\n",
      "    b = array(x, y, z)\n",
      "    c = {'m':x, 'n':y, 'p':z}"
     ],
     "language": "python",
     "metadata": {},
     "outputs": []
    },
    {
     "cell_type": "code",
     "collapsed": false,
     "input": [
      "pdb_exercise('s', 3, 1)"
     ],
     "language": "python",
     "metadata": {},
     "outputs": []
    },
    {
     "cell_type": "markdown",
     "metadata": {},
     "source": [
      "### Profiling\n",
      "* Find slow parts\n",
      "<pre></pre>\n",
      "* cProfile is faster than profile\n",
      "* many more useful modes"
     ]
    },
    {
     "cell_type": "code",
     "collapsed": false,
     "input": [
      "python -m cProfile -s time my_code.py"
     ],
     "language": "python",
     "metadata": {},
     "outputs": []
    },
    {
     "cell_type": "markdown",
     "metadata": {},
     "source": [
      "### End! What we learned\n",
      "* Exceptions\n",
      "* Reading Traces\n",
      "* Linting\n",
      "* Coding Standards\n",
      "* Debuggers\n",
      "* Profiling"
     ]
    }
   ],
   "metadata": {}
  }
 ]
}