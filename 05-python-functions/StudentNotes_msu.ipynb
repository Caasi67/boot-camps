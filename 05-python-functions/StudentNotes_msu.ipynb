{
 "metadata": {
  "name": ""
 },
 "nbformat": 3,
 "nbformat_minor": 0,
 "worksheets": [
  {
   "cells": [
    {
     "cell_type": "markdown",
     "metadata": {},
     "source": [
      "MSU Python notebook"
     ]
    },
    {
     "cell_type": "code",
     "collapsed": false,
     "input": [
      "#go to directory /Users/swc/Desktop"
     ],
     "language": "python",
     "metadata": {},
     "outputs": []
    },
    {
     "cell_type": "code",
     "collapsed": false,
     "input": [
      "cd /Users/tracyt/boot-camps/python/intro/"
     ],
     "language": "python",
     "metadata": {},
     "outputs": []
    },
    {
     "cell_type": "code",
     "collapsed": true,
     "input": [
      "#list file names and directory names"
     ],
     "language": "python",
     "metadata": {},
     "outputs": []
    },
    {
     "cell_type": "code",
     "collapsed": false,
     "input": [
      "ls"
     ],
     "language": "python",
     "metadata": {},
     "outputs": []
    },
    {
     "cell_type": "code",
     "collapsed": false,
     "input": [
      "#get current working directory"
     ],
     "language": "python",
     "metadata": {},
     "outputs": []
    },
    {
     "cell_type": "code",
     "collapsed": false,
     "input": [
      "mkdir test_dir"
     ],
     "language": "python",
     "metadata": {},
     "outputs": []
    },
    {
     "cell_type": "code",
     "collapsed": false,
     "input": [
      "#make directory - test_dir"
     ],
     "language": "python",
     "metadata": {},
     "outputs": []
    },
    {
     "cell_type": "code",
     "collapsed": false,
     "input": [
      "ls"
     ],
     "language": "python",
     "metadata": {},
     "outputs": []
    },
    {
     "cell_type": "code",
     "collapsed": false,
     "input": [
      "#list file names and directory names again, notice you added one called test_dir"
     ],
     "language": "python",
     "metadata": {},
     "outputs": []
    },
    {
     "cell_type": "code",
     "collapsed": false,
     "input": [
      "pwd"
     ],
     "language": "python",
     "metadata": {},
     "outputs": []
    },
    {
     "cell_type": "markdown",
     "metadata": {},
     "source": [
      "***\n",
      "# Python as a calculator\n",
      "***\n",
      "Another familiar tool that you can replace with python is a calculator. At its most basic, python can add, subtract, multiply, and divide. We will also look at exponents and modulus"
     ]
    },
    {
     "cell_type": "code",
     "collapsed": false,
     "input": [
      "#Add\n",
      "4+5"
     ],
     "language": "python",
     "metadata": {},
     "outputs": []
    },
    {
     "cell_type": "code",
     "collapsed": false,
     "input": [
      "#Subtract\n",
      "5-4"
     ],
     "language": "python",
     "metadata": {},
     "outputs": []
    },
    {
     "cell_type": "code",
     "collapsed": false,
     "input": [
      "#Multiply\n",
      "7*6"
     ],
     "language": "python",
     "metadata": {},
     "outputs": []
    },
    {
     "cell_type": "code",
     "collapsed": false,
     "input": [
      "#Divide\n",
      "round(42./9)"
     ],
     "language": "python",
     "metadata": {},
     "outputs": []
    },
    {
     "cell_type": "markdown",
     "metadata": {},
     "source": [
      "6 divides evenly into 42, what if we chose a number which wasn't evenly divisible by 6"
     ]
    },
    {
     "cell_type": "markdown",
     "metadata": {},
     "source": [
      "**Integer division in Python 2 and Python 3**\n",
      "\n",
      "An integer/integer = integer is called integer division. In Python 2.X this is the default behavior for dividing two integers. In Python 3, you must explicitly denote integer division using // instead of /. Python 2.7 understands the // notation and I suggest using it anytime you mean integer division. Note that the behavior is to truncate, not round."
     ]
    },
    {
     "cell_type": "code",
     "collapsed": false,
     "input": [
      "#Exponent (fortran notation)\n",
      "3**5"
     ],
     "language": "python",
     "metadata": {},
     "outputs": []
    },
    {
     "cell_type": "code",
     "collapsed": false,
     "input": [
      "#Modulus\n",
      "11%2"
     ],
     "language": "python",
     "metadata": {},
     "outputs": []
    },
    {
     "cell_type": "markdown",
     "metadata": {},
     "source": [
      "*Note*: Using a #mod2 is the quickest way to determine even and odd numbers in python"
     ]
    },
    {
     "cell_type": "markdown",
     "metadata": {},
     "source": [
      "***\n",
      "# Basic Types\n",
      "***\n",
      "We've just seen examples of integers and floating point numbers. Now we will also look at strings and booleans. As we say with division, the same operation can produce a different result when acting on a different type."
     ]
    },
    {
     "cell_type": "code",
     "collapsed": false,
     "input": [
      "#integer (no decimal)\n",
      "4"
     ],
     "language": "python",
     "metadata": {},
     "outputs": []
    },
    {
     "cell_type": "code",
     "collapsed": false,
     "input": [
      "#Floating point (with decimal).\n",
      "4.0"
     ],
     "language": "python",
     "metadata": {},
     "outputs": []
    },
    {
     "cell_type": "markdown",
     "metadata": {},
     "source": [
      "*Note:* Python floating point numbers a double precision by default"
     ]
    },
    {
     "cell_type": "code",
     "collapsed": false,
     "input": [
      "#string\n",
      "'4'"
     ],
     "language": "python",
     "metadata": {},
     "outputs": []
    },
    {
     "cell_type": "markdown",
     "metadata": {},
     "source": [
      "*Note:* You can use single or double quotes to denote a string. The only rule is that you must close with the same type you started with"
     ]
    },
    {
     "cell_type": "code",
     "collapsed": false,
     "input": [
      "#Double quotes:\n",
      "\"4\""
     ],
     "language": "python",
     "metadata": {},
     "outputs": []
    },
    {
     "cell_type": "code",
     "collapsed": false,
     "input": [
      "#Boolean: True or False - no quotes\n",
      "True\n",
      "False"
     ],
     "language": "python",
     "metadata": {},
     "outputs": []
    },
    {
     "cell_type": "markdown",
     "metadata": {},
     "source": [
      "**Reserved Words**\n",
      "\n",
      "There are some words in python that have meaning as soon as you start typing code. Why Python will happily let you redefine these, you should avoid it. <code>True</code> and <code>False</code> are examples of reserved words. Notice that you do not have to put them in quotes. <code>'True'</code> is just a string to python, however <code>True</code> is a boolean.\n",
      "\n",
      "Here is a good starting list of reserved words (a.k.a keywords) <a href = \"http://docs.python.org/2/reference/lexical_analysis.html#keywords\" target = \"blank\">http://docs.python.org/2/reference/lexical_analysis.html#keywords</a>"
     ]
    },
    {
     "cell_type": "code",
     "collapsed": false,
     "input": [
      "#You can find out what type an object is by typing type(object)\n",
      "type(4)"
     ],
     "language": "python",
     "metadata": {},
     "outputs": []
    },
    {
     "cell_type": "code",
     "collapsed": false,
     "input": [
      "type('True')"
     ],
     "language": "python",
     "metadata": {},
     "outputs": []
    },
    {
     "cell_type": "markdown",
     "metadata": {},
     "source": [
      "***\n",
      "# Exercise 1:\n",
      "1. Calculate the mean of 2, 3, and 10\n",
      "2. Try multipying each type by 2, how does the meaning of multiplication differ for an integer, a floating point, a string, and a boolean? Do you notice different behavior if 2 is an integer or a floating point? What about addition?\n",
      "3. (optional - if you finish early) Try division and subtraction. \n",
      "\n",
      "***"
     ]
    },
    {
     "cell_type": "code",
     "collapsed": false,
     "input": [
      "(2.0+3.0+10.0)/3.0"
     ],
     "language": "python",
     "metadata": {},
     "outputs": []
    },
    {
     "cell_type": "code",
     "collapsed": false,
     "input": [
      "10*False"
     ],
     "language": "python",
     "metadata": {},
     "outputs": []
    },
    {
     "cell_type": "code",
     "collapsed": false,
     "input": [
      "2+2\n",
      "3*5\n",
      "2+True"
     ],
     "language": "python",
     "metadata": {},
     "outputs": []
    },
    {
     "cell_type": "code",
     "collapsed": false,
     "input": [],
     "language": "python",
     "metadata": {},
     "outputs": []
    },
    {
     "cell_type": "markdown",
     "metadata": {},
     "source": [
      "***\n",
      "#Assigning and Viewing Variables\n",
      "***\n",
      "\n",
      "So far, python has printed back exactly what we input, but what if you want to save a value to be used later?"
     ]
    },
    {
     "cell_type": "code",
     "collapsed": false,
     "input": [
      "#Assigning a variable. Notice it doesn't output (print) anything\n",
      "b = 3\n",
      "print b"
     ],
     "language": "python",
     "metadata": {},
     "outputs": []
    },
    {
     "cell_type": "code",
     "collapsed": false,
     "input": [
      "#Variables are case sensitivity and cannot begin with a number\n",
      "B123 = 4.0\n",
      "print b, B123\n",
      "print b+B123"
     ],
     "language": "python",
     "metadata": {},
     "outputs": []
    },
    {
     "cell_type": "code",
     "collapsed": false,
     "input": [
      "#Viewing variables\n"
     ],
     "language": "python",
     "metadata": {},
     "outputs": []
    },
    {
     "cell_type": "code",
     "collapsed": false,
     "input": [
      "#printing more than one item\n"
     ],
     "language": "python",
     "metadata": {},
     "outputs": []
    },
    {
     "cell_type": "markdown",
     "metadata": {},
     "source": [
      "*Note:* In python 3, printing will change to look like this <code>print(b)</code>. "
     ]
    },
    {
     "cell_type": "code",
     "collapsed": false,
     "input": [
      "#Variables behave just like the types they represent\n"
     ],
     "language": "python",
     "metadata": {},
     "outputs": []
    },
    {
     "cell_type": "code",
     "collapsed": false,
     "input": [],
     "language": "python",
     "metadata": {},
     "outputs": []
    },
    {
     "cell_type": "markdown",
     "metadata": {},
     "source": [
      "###Variable assignment: Immutable objects\n",
      "Every object we've seen so far is immutable, meaning it can't be changed. Below is how variable assignment works for immutable objects\n",
      "\n",
      "<img width = 500 src=\"https://docs.google.com/drawings/d/1-VVjNCAx08RyLdfegyyUg1UXZl79Ss79voablWJQWHc/pub?w=960&amp;h=720\">\n",
      "\n",
      "**Changing a does not change b**"
     ]
    },
    {
     "cell_type": "markdown",
     "metadata": {},
     "source": [
      "***\n",
      "# Containers\n",
      "***\n",
      "\n",
      "Now let's get into mutable objects or containers. Python has 4 basics container objects: lists, tuples, dictionaries, and sets. *Note:* Python is zero indexed"
     ]
    },
    {
     "cell_type": "markdown",
     "metadata": {},
     "source": [
      "##Lists\n",
      "* ordered\n",
      "* can mix object types\n",
      "* mutable\n",
      "* defined with square brackets\n",
      "* *Note:* list is a reserved word."
     ]
    },
    {
     "cell_type": "code",
     "collapsed": false,
     "input": [
      "#Defining a list\n",
      "my_list = ['apple', 3, True, False, 4.0, 'hi']\n",
      "print my_list"
     ],
     "language": "python",
     "metadata": {},
     "outputs": []
    },
    {
     "cell_type": "code",
     "collapsed": false,
     "input": [
      "len(my_list)"
     ],
     "language": "python",
     "metadata": {},
     "outputs": []
    },
    {
     "cell_type": "code",
     "collapsed": false,
     "input": [
      "#How many items are in list\n"
     ],
     "language": "python",
     "metadata": {},
     "outputs": []
    },
    {
     "cell_type": "code",
     "collapsed": false,
     "input": [
      "#Selecting an item in a list\n",
      "my_list[0]"
     ],
     "language": "python",
     "metadata": {},
     "outputs": []
    },
    {
     "cell_type": "code",
     "collapsed": false,
     "input": [],
     "language": "python",
     "metadata": {},
     "outputs": []
    },
    {
     "cell_type": "code",
     "collapsed": false,
     "input": [
      "#Selecting multiple items in a list - this is called slicing\n",
      "print my_list[0:5:2], my_list[4:5]\n",
      "print my_list"
     ],
     "language": "python",
     "metadata": {},
     "outputs": []
    },
    {
     "cell_type": "markdown",
     "metadata": {},
     "source": [
      "*Note:* Python includes the item corresponding to the start index and excludes the item corresponding the end index"
     ]
    },
    {
     "cell_type": "code",
     "collapsed": false,
     "input": [
      "#implicitly starting at the beginning\n",
      "my_list[:3]"
     ],
     "language": "python",
     "metadata": {},
     "outputs": []
    },
    {
     "cell_type": "code",
     "collapsed": false,
     "input": [
      "#inplicitly going to the end\n",
      "my_list[4:]"
     ],
     "language": "python",
     "metadata": {},
     "outputs": []
    },
    {
     "cell_type": "code",
     "collapsed": false,
     "input": [
      "#Negative indexing: Indexing from the end of the array\n",
      "my_list[-3]"
     ],
     "language": "python",
     "metadata": {},
     "outputs": []
    },
    {
     "cell_type": "code",
     "collapsed": false,
     "input": [
      "2*my_list"
     ],
     "language": "python",
     "metadata": {},
     "outputs": []
    },
    {
     "cell_type": "markdown",
     "metadata": {},
     "source": [
      "***\n",
      "###Exercise 2.1\n",
      "1. Make a list with 6 items in it\n",
      "2. print item 4 to the screen\n",
      "3. print a sublist containing the 3rd, 4th, and 5th item in the list\n",
      "4. Experiment with multiplication and addition on list. How do these operations act on lists?\n",
      "\n",
      "***"
     ]
    },
    {
     "cell_type": "code",
     "collapsed": false,
     "input": [
      "my_list = ['apple', 'orange', 'green', True, 1, 6]"
     ],
     "language": "python",
     "metadata": {},
     "outputs": []
    },
    {
     "cell_type": "code",
     "collapsed": false,
     "input": [
      "print my_list[3]"
     ],
     "language": "python",
     "metadata": {},
     "outputs": []
    },
    {
     "cell_type": "code",
     "collapsed": false,
     "input": [
      "my_list[2:5]"
     ],
     "language": "python",
     "metadata": {},
     "outputs": []
    },
    {
     "cell_type": "code",
     "collapsed": false,
     "input": [
      "my_list+my_list"
     ],
     "language": "python",
     "metadata": {},
     "outputs": []
    },
    {
     "cell_type": "code",
     "collapsed": false,
     "input": [
      "my_list *5"
     ],
     "language": "python",
     "metadata": {},
     "outputs": []
    },
    {
     "cell_type": "markdown",
     "metadata": {},
     "source": [
      "##Tuples\n",
      "* ordered\n",
      "* can mix object types\n",
      "* immutable\n",
      "* defined with curved brackets"
     ]
    },
    {
     "cell_type": "code",
     "collapsed": false,
     "input": [
      "#Define a tuple\n",
      "my_tup = (3, 5, 'a', False)"
     ],
     "language": "python",
     "metadata": {},
     "outputs": []
    },
    {
     "cell_type": "code",
     "collapsed": false,
     "input": [
      "print my_tup\n",
      "print type(my_tup)"
     ],
     "language": "python",
     "metadata": {},
     "outputs": []
    },
    {
     "cell_type": "code",
     "collapsed": false,
     "input": [
      "#indexes like a list\n",
      "my_tup[3]"
     ],
     "language": "python",
     "metadata": {},
     "outputs": []
    },
    {
     "cell_type": "code",
     "collapsed": false,
     "input": [
      "#immutable\n",
      "my_tup[3] = 'alpha'"
     ],
     "language": "python",
     "metadata": {},
     "outputs": []
    },
    {
     "cell_type": "code",
     "collapsed": false,
     "input": [
      "#Unpacking:\n",
      "a, b, c, d = my_tup\n",
      "print a\n",
      "print b\n",
      "print c"
     ],
     "language": "python",
     "metadata": {},
     "outputs": []
    },
    {
     "cell_type": "code",
     "collapsed": false,
     "input": [
      "#Common error message when unpacking:\n",
      "a, b, c = my_tup"
     ],
     "language": "python",
     "metadata": {},
     "outputs": []
    },
    {
     "cell_type": "markdown",
     "metadata": {},
     "source": [
      "##Dictionary\n",
      "* key (immutable), value (mutable), item = (key, value)\n",
      "* defined with curly brackets\n",
      "* keys can be integers, floating point numbers, or strings"
     ]
    },
    {
     "cell_type": "code",
     "collapsed": false,
     "input": [
      "#Defining a dictionary\n",
      "#keys: stars, galaxies\n",
      "#Values: ['sirius', 'deneb'], ['Whirlpool', 'Sombrero', 'Pinwheel']\n",
      "my_dict = {'stars':['sirius', 'deneb'], 'galaxies':['Whirlpool', 'Sombrero', 'Pinwheel']}\n",
      "print my_dict"
     ],
     "language": "python",
     "metadata": {},
     "outputs": []
    },
    {
     "cell_type": "code",
     "collapsed": false,
     "input": [
      "my_dict['stars']"
     ],
     "language": "python",
     "metadata": {},
     "outputs": []
    },
    {
     "cell_type": "markdown",
     "metadata": {},
     "source": [
      "A dictionary is a *hash table*. A hash table is a special and fast way for a computer look-up information. The plus side is that it is fast, the downside is that it is unordered"
     ]
    },
    {
     "cell_type": "code",
     "collapsed": false,
     "input": [
      "#You cannot index a dictionary by position. Instead you must use the keys\n"
     ],
     "language": "python",
     "metadata": {},
     "outputs": []
    },
    {
     "cell_type": "code",
     "collapsed": false,
     "input": [
      "#Adding a key\n",
      "my_dict[4] = 'four'"
     ],
     "language": "python",
     "metadata": {},
     "outputs": []
    },
    {
     "cell_type": "code",
     "collapsed": false,
     "input": [
      "my_dict"
     ],
     "language": "python",
     "metadata": {},
     "outputs": []
    },
    {
     "cell_type": "code",
     "collapsed": false,
     "input": [
      "#keys can be numbers\n"
     ],
     "language": "python",
     "metadata": {},
     "outputs": []
    },
    {
     "cell_type": "code",
     "collapsed": false,
     "input": [
      "#viewing keys:\n",
      "my_dict.keys()"
     ],
     "language": "python",
     "metadata": {},
     "outputs": []
    },
    {
     "cell_type": "code",
     "collapsed": false,
     "input": [
      "#viewing values:\n",
      "my_dict['stars'] = my_dict['stars']+['polaris']\n",
      "print my_dict['stars']"
     ],
     "language": "python",
     "metadata": {},
     "outputs": []
    },
    {
     "cell_type": "code",
     "collapsed": false,
     "input": [
      "my_dict.values()"
     ],
     "language": "python",
     "metadata": {},
     "outputs": []
    },
    {
     "cell_type": "code",
     "collapsed": false,
     "input": [
      "#viewing items:\n",
      "#items are tuples of keys and values\n",
      "my_dict.items()"
     ],
     "language": "python",
     "metadata": {},
     "outputs": []
    },
    {
     "cell_type": "code",
     "collapsed": false,
     "input": [],
     "language": "python",
     "metadata": {},
     "outputs": []
    },
    {
     "cell_type": "markdown",
     "metadata": {},
     "source": [
      "***\n",
      "###Exercise 2.2\n",
      "1. Make a dictionary and experiment using different types as keys. Which containers, if any, can be keys? Why?\n",
      "2. When would you use a list and a dictionary? student grades, lottery numbers\n",
      "\n",
      "***"
     ]
    },
    {
     "cell_type": "code",
     "collapsed": false,
     "input": [
      "my_dict = {0:'apple', True:'pear'}\n",
      "print my_dict.keys()"
     ],
     "language": "python",
     "metadata": {},
     "outputs": []
    },
    {
     "cell_type": "code",
     "collapsed": false,
     "input": [],
     "language": "python",
     "metadata": {},
     "outputs": []
    },
    {
     "cell_type": "code",
     "collapsed": false,
     "input": [],
     "language": "python",
     "metadata": {},
     "outputs": []
    },
    {
     "cell_type": "markdown",
     "metadata": {},
     "source": [
      "###Variable Assignment: mutable objects\n",
      "<img width = 500 src=\"https://docs.google.com/drawings/d/1cx-9q3_GSt51LYFp90lyXHl2ec2eFhdDHbnbJovJBAM/pub?w=960&amp;h=720\">\n",
      "\n",
      "**Changing a changes b**\n",
      "\n",
      "***\n",
      "###Exercise 2.3: \n",
      "1. Does this apply to tuples? why or why not?\n",
      "    \n",
      "***"
     ]
    },
    {
     "cell_type": "markdown",
     "metadata": {},
     "source": [
      "***\n",
      "Discussion question:\n",
      "For the two examples given below, discuss whether is would be better to use a dictionary, tuple, or list. There is not necessarily one right answer. Make sure you discuss why you made your choice.\n",
      "\n",
      "1. Lottery numbers\n",
      "2. Student's grades\n",
      "***"
     ]
    },
    {
     "cell_type": "markdown",
     "metadata": {},
     "source": [
      "***\n",
      "#If Statements\n",
      "***\n",
      "\n",
      "Blocks of code in python are identified by having the same indentation level. Therefore, the beginning spacing of a line is very important."
     ]
    },
    {
     "cell_type": "code",
     "collapsed": false,
     "input": [
      "x = -5\n",
      "if x < 0:\n",
      "    print 'x is negative'\n",
      "print x"
     ],
     "language": "python",
     "metadata": {},
     "outputs": []
    },
    {
     "cell_type": "markdown",
     "metadata": {},
     "source": [
      "*Note:* that ipython auto-indents after the colon. To write something outside the if statement, you have to un-indent"
     ]
    },
    {
     "cell_type": "code",
     "collapsed": false,
     "input": [
      "x = 5\n",
      "if x < 0:\n",
      "    print 'x is negative'\n",
      "else:\n",
      "    print 'x is non-negative'\n",
      "print x"
     ],
     "language": "python",
     "metadata": {},
     "outputs": []
    },
    {
     "cell_type": "code",
     "collapsed": false,
     "input": [
      "x = -4\n",
      "if x < 0:\n",
      "    print 'x is negative'\n",
      "elif x == 0:\n",
      "    print 'x is zero'\n",
      "else:\n",
      "    print 'x is positive'\n",
      "print x\n"
     ],
     "language": "python",
     "metadata": {},
     "outputs": []
    },
    {
     "cell_type": "code",
     "collapsed": false,
     "input": [
      "#Adding an else statement\n"
     ],
     "language": "python",
     "metadata": {},
     "outputs": []
    },
    {
     "cell_type": "code",
     "collapsed": false,
     "input": [
      "#Adding an else if\n"
     ],
     "language": "python",
     "metadata": {},
     "outputs": []
    },
    {
     "cell_type": "markdown",
     "metadata": {},
     "source": [
      "***\n",
      "#Exercise 3\n",
      "1. Write an if statement that prints whether x is even or odd (hint: remember the modulus)\n",
      "\n",
      "***"
     ]
    },
    {
     "cell_type": "code",
     "collapsed": false,
     "input": [
      "x = 5\n",
      "if x%2 != 0:\n",
      "    print 'x is odd'\n",
      "else:\n",
      "    print 'x is even'"
     ],
     "language": "python",
     "metadata": {},
     "outputs": []
    },
    {
     "cell_type": "markdown",
     "metadata": {},
     "source": [
      "***\n",
      "#Looping\n",
      "***"
     ]
    },
    {
     "cell_type": "code",
     "collapsed": false,
     "input": [
      "fruit_list = ['apples', 'oranges', 'pears']\n",
      "for fruit in fruit_list:\n",
      "    print fruit"
     ],
     "language": "python",
     "metadata": {},
     "outputs": []
    },
    {
     "cell_type": "markdown",
     "metadata": {},
     "source": [
      "*Note:* fruit actually represents each fruit, it does not represent the index number of the fruit. Python is object oriented. In this case each fruit is an object."
     ]
    },
    {
     "cell_type": "code",
     "collapsed": false,
     "input": [
      "#If you need the index\n",
      "print len(fruit_list)\n",
      "print range(10)\n",
      "print range(len(fruit_list))\n",
      "for index in range(len(fruit_list)):\n",
      "    print fruit_list[index]"
     ],
     "language": "python",
     "metadata": {},
     "outputs": []
    },
    {
     "cell_type": "code",
     "collapsed": false,
     "input": [
      "#What if we want to loop over 2 different lists?\n",
      "price_list = [0.50, 1.0, 0.75]\n",
      "#unpython\n",
      "for index in range(len(fruit_list)):\n",
      "    print fruit_list[index], price_list[index]"
     ],
     "language": "python",
     "metadata": {},
     "outputs": []
    },
    {
     "cell_type": "code",
     "collapsed": false,
     "input": [
      "#The python way\n",
      "for fruit, price in zip(fruit_list, price_list):\n",
      "    print fruit, price"
     ],
     "language": "python",
     "metadata": {},
     "outputs": []
    },
    {
     "cell_type": "code",
     "collapsed": false,
     "input": [
      "#In a dictionary:\n",
      "#.items returns a tuple which is unpacked into the variables fruit and price\n",
      "fruit_dict = {'apple':0.5, 'orange':1.0, 'pear':0.75}\n",
      "print fruit_dict.items()\n",
      "for fruit, price in fruit_dict.items():\n",
      "    print price, fruit"
     ],
     "language": "python",
     "metadata": {},
     "outputs": []
    },
    {
     "cell_type": "code",
     "collapsed": false,
     "input": [
      "a = range(100)\n",
      "print a[:20]"
     ],
     "language": "python",
     "metadata": {},
     "outputs": []
    },
    {
     "cell_type": "markdown",
     "metadata": {},
     "source": [
      "***\n",
      "#Exercise 4:\n",
      "1. Using a loop, find the mean of [3.0, 4.0, 5.0, 2.0, 8.0, 10.0, 14.0, 16.0, 29.0]\n",
      "\n",
      "***"
     ]
    },
    {
     "cell_type": "code",
     "collapsed": false,
     "input": [
      "my_list = [3.0, 4.0, 5.0, 2.0, 8.0, 10.0, 14.0, 16.0, 29.0]\n",
      "total = 0.0\n",
      "for num in my_list:\n",
      "    total = total + num\n",
      "print total/float(len(my_list))\n",
      "\n"
     ],
     "language": "python",
     "metadata": {},
     "outputs": []
    },
    {
     "cell_type": "markdown",
     "metadata": {},
     "source": [
      "***\n",
      "#Functions\n",
      "***\n",
      "\n",
      "A function is a piece of code that does something. You can think of it as the verb of programming. Although we haven't explicitly called them functions, you have already seen functions. len() and range() are both functions. In the case of len(ilist), length takes a list as input and outputs (or returns) how many elements are in that list."
     ]
    },
    {
     "cell_type": "markdown",
     "metadata": {},
     "source": [
      "A function is defined using <code>def FunctionName(inputs):</code> and every line inside the function is indented"
     ]
    },
    {
     "cell_type": "markdown",
     "metadata": {},
     "source": [
      "###Functions you've already seen:\n",
      "* len(list)\n",
      "* range(#)\n",
      "* type(var)\n",
      "\n",
      "###Other useful functions:\n",
      "* int(var)\n",
      "* float(var)\n",
      "* str(var)"
     ]
    },
    {
     "cell_type": "code",
     "collapsed": false,
     "input": [
      "#let's try them:\n",
      "float(4)\n",
      "int('3')\n",
      "str(5)"
     ],
     "language": "python",
     "metadata": {},
     "outputs": []
    },
    {
     "cell_type": "code",
     "collapsed": false,
     "input": [
      "#A function which returns the square of an input number\n",
      "def square(num):\n",
      "    y = num*num\n",
      "    return y"
     ],
     "language": "python",
     "metadata": {},
     "outputs": []
    },
    {
     "cell_type": "code",
     "collapsed": false,
     "input": [
      "square(3)"
     ],
     "language": "python",
     "metadata": {},
     "outputs": []
    },
    {
     "cell_type": "markdown",
     "metadata": {},
     "source": [
      "*Note:* Your function names and your variable names should be as descriptive as possible. Many editors will auto-complete if you get tired of typing and python has no limit on the number of characters. This will make your code much easier to follow 2 years from now."
     ]
    },
    {
     "cell_type": "code",
     "collapsed": false,
     "input": [
      "#You can layer statements in python\n",
      "#This takes the output of square(4) and uses it as input to the square function\n",
      "square(square(4))"
     ],
     "language": "python",
     "metadata": {},
     "outputs": []
    },
    {
     "cell_type": "markdown",
     "metadata": {},
     "source": [
      "###Good Coding Practice Note:\n",
      "* A function should be a paragraph\n",
      "* Each function should perform one task\n",
      "* If you are typing the same code over and over ask yourself: should this be in a loop or can I write a function?\n",
      "* Advantages of using a function: \n",
      "    * if you make a mistake, you only have to change it in one place\n",
      "    * If something breaks, it breaks in a well defined, small area of code. This make finding and fixing bugs much easier\n",
      "    * Much easier to reuse part of your code\n",
      "    * Much easier for someone (or yourself in 6 months) to read and understand\n",
      "* If you are doing something common to your field, do some googling to see if someone has approached the problem before, rather than reinventing the wheel <a href = \"http://stackoverflow.com/questions/9185443/in-python-whats-the-method-for-returning-only-the-max-odd-integer-in-a-list/9185613#9185613\" target = \"blank\">Stack Overflow Example</a>"
     ]
    },
    {
     "cell_type": "markdown",
     "metadata": {},
     "source": [
      "###Docstrings\n",
      "In addition to commenting your code, every function should begin with a description of the code in triple quotes. This is called a *docstring*. Another python function is the help function. You can ask for a description of any function by calling help(function). When you call the help function, python will print the docstring for that function."
     ]
    },
    {
     "cell_type": "code",
     "collapsed": false,
     "input": [
      "#Calling help\n",
      "help(len)"
     ],
     "language": "python",
     "metadata": {},
     "outputs": []
    },
    {
     "cell_type": "code",
     "collapsed": false,
     "input": [
      "#Add a docstring\n",
      "def square(num):\n",
      "    '''\n",
      "    returns the square of input number (num)\n",
      "    '''\n",
      "    y = num*num\n",
      "    return y"
     ],
     "language": "python",
     "metadata": {},
     "outputs": []
    },
    {
     "cell_type": "code",
     "collapsed": false,
     "input": [
      "help(square)"
     ],
     "language": "python",
     "metadata": {},
     "outputs": []
    },
    {
     "cell_type": "markdown",
     "metadata": {},
     "source": [
      "###Why use doc strings?\n",
      "* Common courtesy\n",
      "* You always understand something better after you explain it\n",
      "* Saves time the next time you want to use that function"
     ]
    },
    {
     "cell_type": "markdown",
     "metadata": {},
     "source": [
      "***\n",
      "#Exercise 5:\n",
      "1. Using your last exercise, create a function which calculates the mean of an input list of numbers\n",
      "\n",
      "***"
     ]
    },
    {
     "cell_type": "code",
     "collapsed": false,
     "input": [
      "def calc_mean(ilist):\n",
      "    '''\n",
      "    returns the mean of input list\n",
      "    '''\n",
      "  "
     ],
     "language": "python",
     "metadata": {},
     "outputs": []
    },
    {
     "cell_type": "markdown",
     "metadata": {},
     "source": [
      "Test your function"
     ]
    },
    {
     "cell_type": "code",
     "collapsed": false,
     "input": [
      "my_list = [3.0, 4.0, 5.0, 2.0, 8.0, 10.0, 14.0, 16.0, 29.0]\n",
      "y = calc_mean(my_list)\n",
      "print y"
     ],
     "language": "python",
     "metadata": {},
     "outputs": []
    },
    {
     "cell_type": "markdown",
     "metadata": {},
     "source": [
      "***\n",
      "#Reading text files\n",
      "***\n",
      "This is the most basic way to read text files. If you are reading columns of data, I strongly suggest the numpy function genfromtxt."
     ]
    },
    {
     "cell_type": "code",
     "collapsed": false,
     "input": [
      "#Open the file animals.txt in read only mode\n",
      "open_file = open('animals.txt', 'r')"
     ],
     "language": "python",
     "metadata": {},
     "outputs": []
    },
    {
     "cell_type": "code",
     "collapsed": false,
     "input": [
      "#Read all lines of the file into a list where each line is a string\n",
      "all_lines = open_file.readlines()\n",
      "print all_lines"
     ],
     "language": "python",
     "metadata": {},
     "outputs": []
    },
    {
     "cell_type": "code",
     "collapsed": false,
     "input": [
      "#Close file\n",
      "open_file.close()"
     ],
     "language": "python",
     "metadata": {},
     "outputs": []
    },
    {
     "cell_type": "code",
     "collapsed": false,
     "input": [
      "all_lines[0]"
     ],
     "language": "python",
     "metadata": {},
     "outputs": []
    },
    {
     "cell_type": "markdown",
     "metadata": {},
     "source": [
      "*Note:* Readlines is a function but it doesn't take any input. Instead it is said to *act on* the open file "
     ]
    },
    {
     "cell_type": "code",
     "collapsed": false,
     "input": [
      "#How long is the files\n",
      "print len(all_lines)"
     ],
     "language": "python",
     "metadata": {},
     "outputs": []
    },
    {
     "cell_type": "code",
     "collapsed": false,
     "input": [
      "#This is a string, how do I get a single element? \n",
      "#the split() function acts on strings to produce a list of each \"word\"\n",
      "\n",
      "split_line = all_lines[0].split()\n",
      "split_line[3]"
     ],
     "language": "python",
     "metadata": {},
     "outputs": []
    },
    {
     "cell_type": "markdown",
     "metadata": {},
     "source": [
      "*Note:* by default split() splits on blank space, however, you can chose what you want it to split on. In a CSV file, sometimes you may want to split on the comma split(',')"
     ]
    },
    {
     "cell_type": "markdown",
     "metadata": {},
     "source": [
      "*Note:* split returns all strings"
     ]
    },
    {
     "cell_type": "code",
     "collapsed": false,
     "input": [
      "#Convert string to int\n",
      "int(split_line[3])"
     ],
     "language": "python",
     "metadata": {},
     "outputs": []
    },
    {
     "cell_type": "code",
     "collapsed": false,
     "input": [
      "#Create empty lists to fill\n",
      "date = []\n",
      "time = []\n",
      "animal = []\n",
      "number = []"
     ],
     "language": "python",
     "metadata": {},
     "outputs": []
    },
    {
     "cell_type": "code",
     "collapsed": false,
     "input": [
      "#Loop over each line, split each line into individual elements (on the white space) and append to empty lists you just created\n",
      "for iline in all_lines:\n",
      "    split_line = iline.split()\n",
      "    date.append(split_line[0])\n",
      "    time.append(split_line[1])\n",
      "    animal.append(split_line[2])\n",
      "    number.append(int(split_line[3]))"
     ],
     "language": "python",
     "metadata": {},
     "outputs": []
    },
    {
     "cell_type": "code",
     "collapsed": false,
     "input": [
      "for iline in all_lines:\n",
      "    split_line = iline.split()\n",
      "    if split_line[2] == 'Grizzly':\n",
      "        print iline\n"
     ],
     "language": "python",
     "metadata": {},
     "outputs": []
    },
    {
     "cell_type": "code",
     "collapsed": false,
     "input": [],
     "language": "python",
     "metadata": {},
     "outputs": []
    },
    {
     "cell_type": "code",
     "collapsed": false,
     "input": [],
     "language": "python",
     "metadata": {},
     "outputs": []
    },
    {
     "cell_type": "code",
     "collapsed": false,
     "input": [],
     "language": "python",
     "metadata": {},
     "outputs": []
    },
    {
     "cell_type": "code",
     "collapsed": false,
     "input": [],
     "language": "python",
     "metadata": {},
     "outputs": []
    },
    {
     "cell_type": "markdown",
     "metadata": {},
     "source": [
      "***\n",
      "# Exercise 6\n",
      "1. Read the file 'big_animals.txt' and print each line on which more than 10 moose were sighted.\n",
      "\n",
      "2. Turn the code for #1 into a function and use it on the files 'merida_animals.txt' and 'fergus_animals.txt'.\n",
      "\n",
      "***"
     ]
    },
    {
     "cell_type": "code",
     "collapsed": false,
     "input": [
      "def find_moose(ifile):\n",
      "    # open the file\n",
      "    \n",
      "    # read in the file\n",
      "    \n",
      "    # close the file\n",
      "    \n",
      "    # hint you need a for loop and to use split\n",
      "    # you also need an if statement\n"
     ],
     "language": "python",
     "metadata": {},
     "outputs": []
    },
    {
     "cell_type": "markdown",
     "metadata": {},
     "source": [
      "Try it out"
     ]
    },
    {
     "cell_type": "code",
     "collapsed": false,
     "input": [
      "filename = 'fergus_animals.txt'\n",
      "find_moose(filename)"
     ],
     "language": "python",
     "metadata": {},
     "outputs": []
    },
    {
     "cell_type": "markdown",
     "metadata": {},
     "source": [
      "***\n",
      "#Scripting in Python\n",
      "***\n",
      "\n",
      "\n",
      "Everything we've done so far has been interactive, but what if you want to create a script which you can run over and over. Everything we've written can be written to a text file and executed using python.\n",
      "\n",
      "Copy and paste the function you just wrote (Ex 6.2) into a text file and save the file a count_animals_student.py"
     ]
    },
    {
     "cell_type": "code",
     "collapsed": false,
     "input": [
      "#Run file\n",
      "import count_animals"
     ],
     "language": "python",
     "metadata": {},
     "outputs": [],
     "prompt_number": 3
    },
    {
     "cell_type": "code",
     "collapsed": false,
     "input": [
      "count_animals.count_moose('big_animals.txt')"
     ],
     "language": "python",
     "metadata": {},
     "outputs": [
      {
       "metadata": {},
       "output_type": "pyout",
       "prompt_number": 8,
       "text": [
        "12"
       ]
      }
     ],
     "prompt_number": 8
    },
    {
     "cell_type": "markdown",
     "metadata": {},
     "source": [
      "*Note:* The import statement only works once during a python session. After that, python does not recompile your code, no matter how many times you import it. To make a change, type reload(function_name)"
     ]
    },
    {
     "cell_type": "code",
     "collapsed": false,
     "input": [
      "#Re-import\n",
      "reload(count_animals)"
     ],
     "language": "python",
     "metadata": {},
     "outputs": [
      {
       "metadata": {},
       "output_type": "pyout",
       "prompt_number": 7,
       "text": [
        "<module 'count_animals' from 'count_animals.py'>"
       ]
      }
     ],
     "prompt_number": 7
    },
    {
     "cell_type": "markdown",
     "metadata": {},
     "source": [
      "***\n",
      "#Exercise 7:\n",
      "\n",
      "1. Add a function to your count_animals module which counts the number wolverine. Don't forget you function best practices: add a doc string, use descriptive function and variable names\n",
      "\n",
      "***"
     ]
    },
    {
     "cell_type": "markdown",
     "metadata": {},
     "source": [
      "***\n",
      "#Modules which have already been written\n",
      "example: os\n",
      "***\n",
      "\n",
      "While you can use all you your shell commands in ipython, when you are writing scripts, you must use built in python functions. One of python's greatest strengths is the ability to import modules. A module is a collection of functions and other python objects. You gain access to these objects by importing them."
     ]
    },
    {
     "cell_type": "markdown",
     "metadata": {},
     "source": [
      "##The os module\n",
      "\n",
      "The os module contains most of the shell commands we covered this morning. os stands for operating system.\n",
      "\n",
      "<table>\n",
      "<tr><th>Shell Command</th><th>Python Command</th></tr>\n",
      "<tr><td>cd directory_name</td><td>os.chdir(directory_name)</td></tr>\n",
      "<tr><td>pwd</td><td>os.getcwd()</td></tr>\n",
      "<tr><td>mkdir directory_name</td><td>os.mkdir(directory_name)</td></tr>\n",
      "<tr><td>ls</td><td>os.listdir(path)</td></tr>\n",
      "<tr><td>rm filename</td><td>os.remove(filename)</td></tr>\n",
      "</table>"
     ]
    },
    {
     "cell_type": "code",
     "collapsed": false,
     "input": [
      "#Let's try these\n"
     ],
     "language": "python",
     "metadata": {},
     "outputs": []
    },
    {
     "cell_type": "code",
     "collapsed": false,
     "input": [
      "#Where am I?\n"
     ],
     "language": "python",
     "metadata": {},
     "outputs": []
    },
    {
     "cell_type": "code",
     "collapsed": false,
     "input": [
      "#What is in my directory?\n"
     ],
     "language": "python",
     "metadata": {},
     "outputs": []
    },
    {
     "cell_type": "code",
     "collapsed": false,
     "input": [],
     "language": "python",
     "metadata": {},
     "outputs": []
    },
    {
     "cell_type": "markdown",
     "metadata": {},
     "source": [
      "###Getting information about modules and functions:\n",
      "* dir(os)\n",
      "* os. < tab > \n",
      "* help(os.getcwd)\n",
      "* website: os module: <a href = \"http://docs.python.org/2/library/os.html\" target = \"blank\">http://docs.python.org/2/library/os.html</a>\n",
      "* web (google, stack overflow, etc)"
     ]
    },
    {
     "cell_type": "markdown",
     "metadata": {},
     "source": [
      "# Modules\n",
      "Python has a lot of useful data type and functions built into the language, some of which you have already seen. For a full list, you can type `dir(__builtins__)`. However, there are even more functions stored in modules. An example is the sine function, which is stored in the math module. In order to access mathematical functions, like sin, we need to `import` the math module. Lets take a look at a simple example:"
     ]
    },
    {
     "cell_type": "code",
     "collapsed": false,
     "input": [
      "print sin(3) # Error! Python doesn't know what sin is...yet"
     ],
     "language": "python",
     "metadata": {},
     "outputs": []
    },
    {
     "cell_type": "code",
     "collapsed": false,
     "input": [
      "import math # Import the math module\n",
      "math.sin(3)"
     ],
     "language": "python",
     "metadata": {},
     "outputs": []
    },
    {
     "cell_type": "code",
     "collapsed": false,
     "input": [
      "print dir(math) # See a list of everything in the math module"
     ],
     "language": "python",
     "metadata": {},
     "outputs": []
    },
    {
     "cell_type": "code",
     "collapsed": false,
     "input": [
      "help(math) # Get help information for the math module"
     ],
     "language": "python",
     "metadata": {},
     "outputs": []
    },
    {
     "cell_type": "markdown",
     "metadata": {},
     "source": [
      "It is not very difficult to use modules - you just have to know the module name and import it. There are a few variations on the import statement that can be used to make your life easier. Lets take a look at an example:"
     ]
    },
    {
     "cell_type": "code",
     "collapsed": false,
     "input": [
      "from math import *  # import everything from math into the global namespace (A BAD IDEA IN GENERAL)\n",
      "print sin(3)        # notice that we don't need to type math.sin anymore\n",
      "print tan(3)        # the tangent function was also in math, so we can use that too"
     ],
     "language": "python",
     "metadata": {},
     "outputs": []
    },
    {
     "cell_type": "code",
     "collapsed": false,
     "input": [
      "reset # Clear everything from IPython"
     ],
     "language": "python",
     "metadata": {},
     "outputs": []
    },
    {
     "cell_type": "code",
     "collapsed": false,
     "input": [
      "from math import sin  # Import just sin from the math module. This is a good idea.\n",
      "print sin(3)          # We can use sin because we just imported it\n",
      "print tan(3)          # Error: We only imported sin - not tan"
     ],
     "language": "python",
     "metadata": {},
     "outputs": []
    },
    {
     "cell_type": "code",
     "collapsed": false,
     "input": [
      "reset # Clear everything from IPython"
     ],
     "language": "python",
     "metadata": {},
     "outputs": []
    },
    {
     "cell_type": "code",
     "collapsed": false,
     "input": [
      "import math as m      # Same as import math, except we are renaming the module m\n",
      "print m.sin(3)        # This is really handy if you have module names that are long"
     ],
     "language": "python",
     "metadata": {},
     "outputs": []
    },
    {
     "cell_type": "markdown",
     "metadata": {},
     "source": [
      "## The General Problem\n",
      "![xkcd](http://imgs.xkcd.com/comics/the_general_problem.png \"I find that when someone's taking time to do something right in the present, they're a perfectionist with no ability to prioritize, whereas when someone took time to do something right in the past, they're a master artisan of great foresight.\")\n",
      "From [xkcd](http://www.xkcd.com)\n",
      "\n",
      "Now that you can write your own functions, you too will experience the dilemma of deciding whether to spend the extra time to make your code more general, and therefore more easily reused in the future."
     ]
    },
    {
     "cell_type": "code",
     "collapsed": false,
     "input": [],
     "language": "python",
     "metadata": {},
     "outputs": []
    }
   ],
   "metadata": {}
  }
 ]
}