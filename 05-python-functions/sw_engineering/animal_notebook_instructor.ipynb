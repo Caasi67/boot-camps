{
 "metadata": {
  "name": "animal_notebook"
 },
 "nbformat": 3,
 "nbformat_minor": 0,
 "worksheets": [
  {
   "cells": [
    {
     "cell_type": "markdown",
     "metadata": {},
     "source": [
      "# Software Engineering Unit at UC Davis\n",
      "\n",
      "Goal:\n",
      "    \n",
      "Write a utility that returns the mean number of a particular animal seen per sighting of that animal.\n",
      "\n",
      "    def mean_animal(filename, species)\n",
      "        ...\n",
      "        return mean_animal_per_sighting"
     ]
    },
    {
     "cell_type": "code",
     "collapsed": false,
     "input": [
      "ls"
     ],
     "language": "python",
     "metadata": {},
     "outputs": []
    },
    {
     "cell_type": "raw",
     "metadata": {},
     "source": [
      "Look at the animals.txt file"
     ]
    },
    {
     "cell_type": "code",
     "collapsed": false,
     "input": [
      "cat animals.txt"
     ],
     "language": "python",
     "metadata": {},
     "outputs": []
    },
    {
     "cell_type": "raw",
     "metadata": {},
     "source": [
      "Write a function that reads in a file"
     ]
    },
    {
     "cell_type": "code",
     "collapsed": false,
     "input": [
      "def read_file(ifile):\n",
      "    open_file = open(ifile, 'r')\n",
      "    \n",
      "    time = []\n",
      "    date = []\n",
      "    animal = []\n",
      "    count = []\n",
      "    \n",
      "    for iline in open_file:\n",
      "        s = iline.split()\n",
      "        date.append(s[0])\n",
      "        time.append(s[1])\n",
      "        animal.append(s[2])\n",
      "        count.append(int(s[3]))\n",
      "    \n",
      "    open_file.close()\n",
      "    \n",
      "    return date, time, animal, count"
     ],
     "language": "python",
     "metadata": {},
     "outputs": []
    },
    {
     "cell_type": "raw",
     "metadata": {},
     "source": [
      "Read in the file"
     ]
    },
    {
     "cell_type": "code",
     "collapsed": false,
     "input": [
      "read_file('animals.txt')"
     ],
     "language": "python",
     "metadata": {},
     "outputs": []
    },
    {
     "cell_type": "raw",
     "metadata": {},
     "source": [
      "Write a test function for read_animals\n",
      "\n",
      "First use a print statement\n",
      "\n",
      "Then use an assert statement"
     ]
    },
    {
     "cell_type": "code",
     "collapsed": false,
     "input": [
      "def test_read_animals():\n",
      "    date, time, animal, count = read_file('animals.txt')\n",
      "    ref_date = ['2011-04-22', '2011-04-23', '2011-04-23', '2011-04-23', '2011-04-23']\n",
      "    ref_time = ['21:06', '14:12', '10:24', '20:08', '18:46']\n",
      "    ref_animal = ['Grizzly', 'Elk', 'Elk', 'Wolverine', 'Muskox']\n",
      "    ref_count = [36, 25, 26, 31, 20]\n",
      "    \n",
      "    if date != ref_date:\n",
      "        print 'Date is not correct!'"
     ],
     "language": "python",
     "metadata": {},
     "outputs": []
    },
    {
     "cell_type": "raw",
     "metadata": {},
     "source": [
      "Run the test script"
     ]
    },
    {
     "cell_type": "code",
     "collapsed": false,
     "input": [
      "test_read_animals()"
     ],
     "language": "python",
     "metadata": {},
     "outputs": []
    },
    {
     "cell_type": "raw",
     "metadata": {},
     "source": [
      "Load the testing tool nose"
     ]
    },
    {
     "cell_type": "code",
     "collapsed": false,
     "input": [
      "%load_ext ipython_nose"
     ],
     "language": "python",
     "metadata": {},
     "outputs": []
    },
    {
     "cell_type": "raw",
     "metadata": {},
     "source": [
      "Run all the test scripts using nose.  Anything with test_ at the beginning is detected as a test."
     ]
    },
    {
     "cell_type": "code",
     "collapsed": false,
     "input": [
      "%nose"
     ],
     "language": "python",
     "metadata": {},
     "outputs": []
    },
    {
     "cell_type": "raw",
     "metadata": {},
     "source": [
      "Write a function that calculates the mean of a list"
     ]
    },
    {
     "cell_type": "code",
     "collapsed": false,
     "input": [],
     "language": "python",
     "metadata": {},
     "outputs": []
    },
    {
     "cell_type": "code",
     "collapsed": false,
     "input": [],
     "language": "python",
     "metadata": {},
     "outputs": []
    },
    {
     "cell_type": "code",
     "collapsed": false,
     "input": [
      "def test_mean1():\n",
      "    m = calc_mean([1, 2, 3])\n",
      "    assert m == 2\n",
      "    \n",
      "def test_mean2():\n",
      "    m = calc_mean([1])\n",
      "    assert m == 1\n",
      "\n",
      "def test_mean3():\n",
      "    m = calc_mean([3.4, 3.5, 3.6])\n",
      "    assert m == 3.5\n"
     ],
     "language": "python",
     "metadata": {},
     "outputs": []
    },
    {
     "cell_type": "code",
     "collapsed": false,
     "input": [
      "%nose"
     ],
     "language": "python",
     "metadata": {},
     "outputs": []
    },
    {
     "cell_type": "raw",
     "metadata": {},
     "source": [
      "Use nose.tools for testing"
     ]
    },
    {
     "cell_type": "code",
     "collapsed": false,
     "input": [
      "import nose.tools as nt"
     ],
     "language": "python",
     "metadata": {},
     "outputs": []
    },
    {
     "cell_type": "code",
     "collapsed": false,
     "input": [
      "@nt.raises(ValueError)\n",
      "def test_mean4():\n",
      "    m = calc_mean([])"
     ],
     "language": "python",
     "metadata": {},
     "outputs": []
    },
    {
     "cell_type": "code",
     "collapsed": false,
     "input": [
      "%nose"
     ],
     "language": "python",
     "metadata": {},
     "outputs": []
    },
    {
     "cell_type": "raw",
     "metadata": {},
     "source": [
      "Write a function that only returns the data for a given species\n"
     ]
    },
    {
     "cell_type": "code",
     "collapsed": false,
     "input": [
      "# This is not a complete function.  It's just to get you started\n",
      "def filter_animals(species, date, time, animal, count):\n",
      "    \"\"\"\n",
      "    Given a particular species, filter out the data for just that species.\n",
      "\n",
      "    Returns four lists: date, time, animal, count.\n",
      "    \"\"\""
     ],
     "language": "python",
     "metadata": {},
     "outputs": []
    },
    {
     "cell_type": "raw",
     "metadata": {},
     "source": [
      "Remember what's in the list"
     ]
    },
    {
     "cell_type": "code",
     "collapsed": false,
     "input": [
      "cat animals.txt"
     ],
     "language": "python",
     "metadata": {},
     "outputs": []
    },
    {
     "cell_type": "raw",
     "metadata": {},
     "source": [
      "Write a function to test the filter function"
     ]
    },
    {
     "cell_type": "code",
     "collapsed": false,
     "input": [
      "# Fill in the function\n",
      "def test_filter_animals1():\n"
     ],
     "language": "python",
     "metadata": {},
     "outputs": []
    },
    {
     "cell_type": "raw",
     "metadata": {},
     "source": [
      "Run the tests!"
     ]
    },
    {
     "cell_type": "code",
     "collapsed": false,
     "input": [
      "%nose"
     ],
     "language": "python",
     "metadata": {},
     "outputs": []
    },
    {
     "cell_type": "raw",
     "metadata": {},
     "source": [
      "Tests look good.  Run the functions."
     ]
    },
    {
     "cell_type": "code",
     "collapsed": false,
     "input": [
      "d, t, a, c = read_file('animals.txt')\n",
      "filter_animals('Grizzly', d, t, a, c)"
     ],
     "language": "python",
     "metadata": {},
     "outputs": []
    },
    {
     "cell_type": "raw",
     "metadata": {},
     "source": [
      "Write the final function that calculates the mean for a particular species."
     ]
    },
    {
     "cell_type": "code",
     "collapsed": false,
     "input": [
      "# Fill in the function\n",
      "def mean_animals(filename, species):"
     ],
     "language": "python",
     "metadata": {},
     "outputs": []
    },
    {
     "cell_type": "raw",
     "metadata": {},
     "source": [
      "Test the mean_animals function "
     ]
    },
    {
     "cell_type": "code",
     "collapsed": false,
     "input": [],
     "language": "python",
     "metadata": {},
     "outputs": []
    },
    {
     "cell_type": "raw",
     "metadata": {},
     "source": [
      "Run the tests"
     ]
    },
    {
     "cell_type": "code",
     "collapsed": false,
     "input": [
      "%nose"
     ],
     "language": "python",
     "metadata": {},
     "outputs": []
    },
    {
     "cell_type": "raw",
     "metadata": {},
     "source": [
      "Run the function"
     ]
    },
    {
     "cell_type": "code",
     "collapsed": false,
     "input": [
      "mean_animals('animals.txt', 'Elk')"
     ],
     "language": "python",
     "metadata": {},
     "outputs": []
    }
   ],
   "metadata": {}
  }
 ]
}